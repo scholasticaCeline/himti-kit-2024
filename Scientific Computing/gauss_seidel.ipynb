{
 "cells": [
  {
   "cell_type": "code",
   "execution_count": null,
   "metadata": {},
   "outputs": [],
   "source": [
    "import numpy as np"
   ]
  },
  {
   "cell_type": "code",
   "execution_count": null,
   "metadata": {},
   "outputs": [],
   "source": [
    "def isDiagonallyDominant(x):\n",
    "    # Make an array\n",
    "    x = np.array(x)\n",
    "\n",
    "    # Take the diagonal\n",
    "    diag = np.array(np.diag(np.abs(x)))\n",
    "\n",
    "    # Find the non-diagonal\n",
    "    # axis: 1 = row, 0 = col\n",
    "    off_diag = np.sum(np.abs(x), axis=1) - diag\n",
    "\n",
    "    # Validation\n",
    "    if np.all(diag > off_diag):\n",
    "        return True\n",
    "    else:\n",
    "        print(\"Not diagonally dominant\")\n",
    "        return False"
   ]
  },
  {
   "cell_type": "code",
   "execution_count": null,
   "metadata": {},
   "outputs": [],
   "source": [
    "def gauss_seidel(x, y, epsilon=0.015, index=15):\n",
    "    if not isDiagonallyDominant(x):\n",
    "        return\n",
    "\n",
    "    # 1. Make sure that x and y are np.array\n",
    "    x = np.array(x)\n",
    "    y = np.array(y)\n",
    "\n",
    "    # 2. Make np array of 0 as the first \"guess\"\n",
    "    result_first = np.zeros(len(x[0]))\n",
    "\n",
    "    # 3. Get the diagonal and substitute it with 0, and move sides\n",
    "    diag = np.diag(x)\n",
    "    x = -x\n",
    "    np.fill_diagonal(x, 0)\n",
    "\n",
    "    # 4. Start iteration\n",
    "    for i in range(index):\n",
    "        # this function will always update their value\n",
    "        result_new = np.array(result_first)\n",
    "\n",
    "        # 5. Count the result\n",
    "        for j, row in enumerate(x):\n",
    "            result_new[j] = (y[j] + np.dot(x[j], result_new)) / diag[j]\n",
    "\n",
    "        # 6. Find the Euclidean for eac\n",
    "        # h iteration\n",
    "        euclidean = np.sqrt(np.dot((result_new - result_first), (result_new - result_first)))  #pangkat dua and then sqrt\n",
    "        print(\"Iteration: \", i)\n",
    "        print(\"Result new: \", result_new)\n",
    "\n",
    "        # 7. Validate\n",
    "        if euclidean < epsilon:\n",
    "            print(\"Convergent\")\n",
    "            return\n",
    "        else:\n",
    "            result_first = result_new\n",
    "\n",
    "    # Get out of for loop\n",
    "    print(\"Not convergent\")"
   ]
  },
  {
   "cell_type": "code",
   "execution_count": null,
   "metadata": {},
   "outputs": [],
   "source": [
    "Xs = np.array([\n",
    "    [8, 1, -3],\n",
    "    [3, 21, -1],\n",
    "    [2, -3, 21]\n",
    "])\n",
    "\n",
    "Xs = np.array([\n",
    "    [4,2],\n",
    "    [2,5]\n",
    "])\n",
    "\n",
    "Ys = np.array([40, 26, 22])\n",
    "\n",
    "gauss_seidel(Xs, Ys, 0.015, 15)\n"
   ]
  }
 ],
 "metadata": {
  "language_info": {
   "name": "python"
  }
 },
 "nbformat": 4,
 "nbformat_minor": 2
}
