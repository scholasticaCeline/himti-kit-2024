{
 "cells": [
  {
   "cell_type": "code",
   "execution_count": null,
   "metadata": {},
   "outputs": [],
   "source": [
    "import matplotlib.pyplot as plt\n",
    "import numpy as np"
   ]
  },
  {
   "cell_type": "code",
   "execution_count": null,
   "metadata": {},
   "outputs": [],
   "source": [
    "# DECLARE ARRAYS\n",
    "x = np.array([1, 2, 3, 4, 5, 6, 7, 8])\n",
    "y = np.array([2, 5, 6, 7, 9, 10, 12, 14])"
   ]
  },
  {
   "cell_type": "code",
   "execution_count": null,
   "metadata": {},
   "outputs": [],
   "source": [
    "# # LINEAR REGRESSION\n",
    "m = 1.58333\n",
    "b = 1\n",
    "# o = dot plot\n",
    "# - = line plot\n",
    "\n",
    "# b = color: blue\n",
    "# r = color: red\n",
    "plt.title(\"Linear Regression\")\n",
    "plt.plot(x, y, 'ob')\n",
    "plt.plot(x, m * x + b, '-r')\n",
    "plt.show()"
   ]
  },
  {
   "cell_type": "code",
   "execution_count": null,
   "metadata": {},
   "outputs": [],
   "source": [
    "# DIRECT INVERSE\n",
    "# A = Vertical matrix that contains values of dataset x with the value 1\n",
    "# y = turn the value of dataset y into the column vector\n",
    "\n",
    "A = np.vstack([x, np.ones(len(x))]).T \n",
    "y = y[:, np.newaxis]\n",
    "\n",
    "result = np.dot(np.dot(np.linalg.inv(np.dot(A.T, A)), A.T), y)\n",
    "\n",
    "# print(result)\n",
    "\n",
    "plt.title(\"Direct Inverse\")\n",
    "plt.plot(x, y, 'ob')\n",
    "plt.plot(x, result[0]*x + result[1], '-r')\n",
    "plt.show()"
   ]
  },
  {
   "cell_type": "code",
   "execution_count": null,
   "metadata": {},
   "outputs": [],
   "source": [
    "# PSEUDO INVERSE\n",
    "# Using functions\n",
    "\n",
    "pinv = np.linalg.pinv(A)\n",
    "alpha = pinv.dot(y)\n",
    "\n",
    "plt.title(\"Pseudo Inverse\")\n",
    "plt.plot(x, y, 'ob')\n",
    "plt.plot(x, alpha[0]*x + alpha[1], '-r')\n",
    "plt.show()"
   ]
  }
 ],
 "metadata": {
  "language_info": {
   "name": "python"
  }
 },
 "nbformat": 4,
 "nbformat_minor": 2
}
