{
 "cells": [
  {
   "cell_type": "code",
   "execution_count": null,
   "metadata": {},
   "outputs": [],
   "source": [
    "import numpy as np"
   ]
  },
  {
   "cell_type": "code",
   "execution_count": null,
   "metadata": {},
   "outputs": [],
   "source": [
    "def f(x):\n",
    "    return 7*x**5 - 2*x - 12 # function yg mau dicari akarnya\n",
    "\n",
    "# turunan f(x)\n",
    "def g(x):\n",
    "    return 35*x**4 - 2 #turunan f(x)"
   ]
  },
  {
   "cell_type": "code",
   "execution_count": null,
   "metadata": {},
   "outputs": [],
   "source": [
    "\n",
    "# 1. Newton Raphson\n",
    "    # Ambil turunan dari persamaannya\n",
    "    # Iteration\n",
    "\n",
    "def newtonRaphson(x0, epsilon = 0.0001, maxIteration=5): #epsilon: error, or smth like that\n",
    "    for i in range(0, maxIteration):\n",
    "        x1 = x0 - (f(x0)/g(x0))\n",
    "        print(f'Iteration {i+1}: {x1}')\n",
    "        if(np.abs(f(x1)) < epsilon):\n",
    "            return x1\n",
    "        else:\n",
    "            x0 = x1\n",
    "    print(\"Reached maximum number of iterations\")\n",
    "    return None # I despise python bc of no fucking kurawal istg, so unclean\n",
    "\n",
    "print(f'Root: {newtonRaphson(2)}')"
   ]
  },
  {
   "cell_type": "code",
   "execution_count": null,
   "metadata": {},
   "outputs": [],
   "source": [
    "# 2. Bisection\n",
    "    # Tidak perlu turunan\n",
    "    # Recursion\n",
    "\n",
    "def bisection(left, right, epsilon=0.0001):\n",
    "    # np.sign()   =>  jika x < 0 -> return -1, jika x = 0 -> return 0, jika x > 0 -> return 1\n",
    "    if(np.sign(f(left)) == np.sign(f(right))):\n",
    "        print(\"Coordinate invalid\")\n",
    "        return\n",
    "\n",
    "    center = (left + right) / 2\n",
    "    if(np.abs(f(center)) < epsilon): # hasilnya\n",
    "        return center\n",
    "\n",
    "    elif(np.sign(f(center)) == np.sign(f(left))):\n",
    "        return bisection(center, right)\n",
    "    elif(np.sign(f(center)) == np.sign(f(right))):\n",
    "        return bisection(left, center)\n",
    "\n",
    "# print(f'Root: {bisection(1, -5)}')"
   ]
  }
 ],
 "metadata": {
  "language_info": {
   "name": "python"
  }
 },
 "nbformat": 4,
 "nbformat_minor": 2
}
