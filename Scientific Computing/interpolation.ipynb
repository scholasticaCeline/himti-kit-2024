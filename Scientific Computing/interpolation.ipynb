{
 "cells": [
  {
   "cell_type": "code",
   "execution_count": null,
   "metadata": {},
   "outputs": [],
   "source": [
    "from scipy.interpolate import interp1d\n",
    "from scipy.interpolate import CubicSpline\n",
    "import matplotlib.pyplot as plt\n",
    "import numpy as np"
   ]
  },
  {
   "cell_type": "code",
   "execution_count": null,
   "metadata": {},
   "outputs": [],
   "source": [
    "# LINEAR INTERPOLATION = connect the dots basically\n",
    "\n",
    "x = np.array([1, 2, 3])\n",
    "y = np.array([3, 5, 1])\n",
    "\n",
    "f = interp1d(x, y)\n",
    "\n",
    "x_new = 2.3\n",
    "y_new = f(x_new)\n",
    "y_new\n",
    "\n",
    "plt.title(\"Linear Interpolation\")\n",
    "plt.plot(x, y, '-b')\n",
    "plt.plot(x_new, y_new, 'or')\n",
    "plt.show()"
   ]
  },
  {
   "cell_type": "code",
   "execution_count": null,
   "metadata": {},
   "outputs": [],
   "source": [
    "# CUBIC INTERPOLATION = connect the dots basically\n",
    "\n",
    "x = np.array([1, 2, 3])\n",
    "y = np.array([3, 5, 1])\n",
    "\n",
    "f = CubicSpline(x, y)\n",
    "\n",
    "x_new = np.linspace(1, 3, 50)  # 1-3 ada 50 array\n",
    "y_new = f(x_new)\n",
    "y_new\n",
    "\n",
    "plt.title(\"Cubic Interpolation\")\n",
    "plt.plot(x, y, '-b')\n",
    "plt.plot(x_new, y_new, 'or')\n",
    "plt.show()"
   ]
  },
  {
   "cell_type": "code",
   "execution_count": null,
   "metadata": {},
   "outputs": [],
   "source": [
    "# NEWTON POLYNOMIAL INTERPOLATION\n",
    "\n",
    "# Generate plots\n",
    "# 1. Polyfit = coefficient from polynomial\n",
    "# 2. Polyval = value of each coefficient\n",
    "a = np.array([1, 2, 3, 4, 5, 6, 7, 8, 9, 10])\n",
    "b = np.array([3, 5, 3, 1, 5, 2, 5, 8, 2, 4])\n",
    "\n",
    "plt.figure(figsize = (15, 8))\n",
    "for i in range(1, 21):\n",
    "    plt.subplot(4, 5, i)\n",
    "    plt.plot(a, b, i)\n",
    "    coef = np.polyfit(a, b, i)\n",
    "    plt.plot(a, np.polyval(coef, a))\n",
    "\n",
    "plt.show()"
   ]
  }
 ],
 "metadata": {
  "language_info": {
   "name": "python"
  }
 },
 "nbformat": 4,
 "nbformat_minor": 2
}
