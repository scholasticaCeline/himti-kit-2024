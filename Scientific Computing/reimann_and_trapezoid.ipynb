{
 "cells": [
  {
   "cell_type": "code",
   "execution_count": null,
   "metadata": {},
   "outputs": [],
   "source": [
    "import numpy as np"
   ]
  },
  {
   "cell_type": "code",
   "execution_count": null,
   "metadata": {},
   "outputs": [],
   "source": [
    "def f(x):\n",
    "    return 2*x**3 - 5*x**2 + 4*x - 3"
   ]
  },
  {
   "cell_type": "code",
   "execution_count": null,
   "metadata": {},
   "outputs": [],
   "source": [
    "# Reimann Integral\n",
    "a = 2 # start\n",
    "b = 10 # difference between each number\n",
    "n = 15 # amount of partitions\n",
    "\n",
    "# Width of every partition\n",
    "lebar = (b - a)/(n - 1)\n",
    "x_dot = np.linspace(a, b, n)\n",
    "y_dot = f(x_dot)"
   ]
  },
  {
   "cell_type": "code",
   "execution_count": null,
   "metadata": {},
   "outputs": [],
   "source": [
    "# Left Riemann\n",
    "left_reimann = lebar * sum(y_dot[:n-1])\n",
    "print(left_reimann)"
   ]
  },
  {
   "cell_type": "code",
   "execution_count": null,
   "metadata": {},
   "outputs": [],
   "source": [
    "# Right Riemann\n",
    "right_reimann = lebar * sum(y_dot[1:])\n",
    "print(right_reimann)"
   ]
  },
  {
   "cell_type": "code",
   "execution_count": null,
   "metadata": {},
   "outputs": [],
   "source": [
    "#mid riemann\n",
    "x_new = x_dot[:n-1] + (lebar/2)\n",
    "y_new = f(x_new)\n",
    "\n",
    "mid_reimann = lebar * sum(y_new)"
   ]
  },
  {
   "cell_type": "code",
   "execution_count": null,
   "metadata": {},
   "outputs": [],
   "source": [
    "# Trapezoid\n",
    "trapezoid = lebar * (y_dot[0] + y_dot[n-1] + 2*sum(y_dot[1:n-1]))/2\n",
    "print(trapezoid)"
   ]
  }
 ],
 "metadata": {
  "language_info": {
   "name": "python"
  }
 },
 "nbformat": 4,
 "nbformat_minor": 2
}
